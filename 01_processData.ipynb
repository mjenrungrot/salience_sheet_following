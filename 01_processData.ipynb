{
 "cells": [
  {
   "cell_type": "code",
   "execution_count": 104,
   "metadata": {
    "ExecuteTime": {
     "end_time": "2018-12-02T06:25:41.285171Z",
     "start_time": "2018-12-02T06:25:41.278231Z"
    }
   },
   "outputs": [],
   "source": [
    "import numpy as np\n",
    "import matplotlib.pyplot as plt\n",
    "import glob\n",
    "import os\n",
    "import subprocess\n",
    "from tqdm import tqdm_notebook\n",
    "import pprint\n",
    "import yaml\n",
    "from multiprocessing import Pool\n",
    "from IPython.display import clear_output"
   ]
  },
  {
   "cell_type": "code",
   "execution_count": 105,
   "metadata": {
    "ExecuteTime": {
     "end_time": "2018-12-02T06:25:41.547362Z",
     "start_time": "2018-12-02T06:25:41.534743Z"
    }
   },
   "outputs": [],
   "source": [
    "# path to MSMD dataset\n",
    "DATA_ROOT_MSMD = '../msmd_aug/msmd_aug'"
   ]
  },
  {
   "cell_type": "code",
   "execution_count": 106,
   "metadata": {
    "ExecuteTime": {
     "end_time": "2018-12-02T06:25:41.801866Z",
     "start_time": "2018-12-02T06:25:41.758382Z"
    }
   },
   "outputs": [],
   "source": [
    "# obtain all the pieces in the dataset\n",
    "with open('../msmd/msmd/splits/all_split.yaml', 'r') as f:\n",
    "    doc = yaml.load(f)\n",
    "\n",
    "pieces = doc['test']\n",
    "assert len(pieces) == 100"
   ]
  },
  {
   "cell_type": "code",
   "execution_count": 107,
   "metadata": {
    "ExecuteTime": {
     "end_time": "2018-12-02T06:25:41.964550Z",
     "start_time": "2018-12-02T06:25:41.946888Z"
    }
   },
   "outputs": [],
   "source": [
    "def getSoundFontLoc(performance, base_loc='/data/mirlab/msmd/salience_sheet_following/soundfonts'):\n",
    "    \"\"\"\n",
    "    Convert performance's name to the corresponding soundfont\n",
    "    \"\"\"\n",
    "    if performance.endswith('acoustic_piano_imis_1'):\n",
    "        return os.path.join(base_loc, 'acoustic_piano_imis_1' + '.sf2')\n",
    "    elif performance.endswith('grand-piano-YDP-20160804'):\n",
    "        return os.path.join(base_loc, 'grand-piano-YDP-20160804' + '.sf2')\n",
    "    elif performance.endswith('YamahaGrandPiano'):\n",
    "        return os.path.join(base_loc, 'FluidR3_GM' + '.sf2')\n",
    "    elif performance.endswith('ElectricPiano'):\n",
    "        return os.path.join(base_loc, 'FluidR3_GM' + '.sf2')\n",
    "    else:\n",
    "        raise ValueError('Error to parse {}'.format(performance))\n",
    "    \n",
    "# getSoundFontLoc('/data/mirlab/msmd/msmd_aug/msmd_aug/Traditional__traditioner_af_swenska_folk_dansar.3.18__traditioner_af_swenska_folk_dansar.3.18/performances/Traditional__traditioner_af_swenska_folk_dansar.3.18__traditioner_af_swenska_folk_dansar.3.18_tempo-900_acoustic_piano_imis_1')"
   ]
  },
  {
   "cell_type": "code",
   "execution_count": 108,
   "metadata": {
    "ExecuteTime": {
     "end_time": "2018-12-02T06:25:42.152115Z",
     "start_time": "2018-12-02T06:25:42.128603Z"
    }
   },
   "outputs": [],
   "source": [
    "def processPiece(piece_idx):\n",
    "    piece = pieces[piece_idx]\n",
    "    performances = glob.glob(os.path.join(DATA_ROOT_MSMD, piece, 'performances', '*'))\n",
    "    print(piece)\n",
    "    for performance in performances:\n",
    "        soundfont_file = getSoundFontLoc(performance)\n",
    "        \n",
    "        midi_file = glob.glob(os.path.join(performance, '*.midi'))[0]\n",
    "        \n",
    "        if not os.path.exists(os.path.join(performance, 'audio')):\n",
    "            os.mkdir(os.path.join(performance, 'audio'))\n",
    "\n",
    "        output_file = os.path.join(performance, 'audio', os.path.basename(performance) + '.flac')\n",
    "        \n",
    "        # Generate audio file\n",
    "        subprocess.call([\"fluidsynth\", '-F', output_file, '-O', 's16', '-T', 'flac', \n",
    "                         soundfont_file, midi_file])"
   ]
  },
  {
   "cell_type": "code",
   "execution_count": 109,
   "metadata": {
    "ExecuteTime": {
     "end_time": "2018-12-02T06:27:07.165761Z",
     "start_time": "2018-12-02T06:25:42.817224Z"
    }
   },
   "outputs": [
    {
     "data": {
      "application/vnd.jupyter.widget-view+json": {
       "model_id": "2e9e46bfc29d40b59c28e1e25110ed6b",
       "version_major": 2,
       "version_minor": 0
      },
      "text/html": [
       "<p>Failed to display Jupyter Widget of type <code>HBox</code>.</p>\n",
       "<p>\n",
       "  If you're reading this message in the Jupyter Notebook or JupyterLab Notebook, it may mean\n",
       "  that the widgets JavaScript is still loading. If this message persists, it\n",
       "  likely means that the widgets JavaScript library is either not installed or\n",
       "  not enabled. See the <a href=\"https://ipywidgets.readthedocs.io/en/stable/user_install.html\">Jupyter\n",
       "  Widgets Documentation</a> for setup instructions.\n",
       "</p>\n",
       "<p>\n",
       "  If you're reading this message in another frontend (for example, a static\n",
       "  rendering on GitHub or <a href=\"https://nbviewer.jupyter.org/\">NBViewer</a>),\n",
       "  it may mean that your frontend doesn't currently support widgets.\n",
       "</p>\n"
      ],
      "text/plain": [
       "HBox(children=(IntProgress(value=0), HTML(value='')))"
      ]
     },
     "metadata": {},
     "output_type": "display_data"
    },
    {
     "name": "stdout",
     "output_type": "stream",
     "text": [
      "Traditional__traditioner_af_swenska_folk_dansar.1.26__traditioner_af_swenska_folk_dansar.1.26\n",
      "Traditional__traditioner_af_swenska_folk_dansar.3.14__traditioner_af_swenska_folk_dansar.3.14\n",
      "BachJS__BWV924a__bach-prelude-bwv924a\n",
      "BachJS__BWV825__15title-hub\n",
      "SidwellA__little-toy-lost__little-toy-lost\n",
      "BachJS__BWV988__bwv-988-v13\n",
      "Traditional__traditioner_af_swenska_folk_dansar.1.14__traditioner_af_swenska_folk_dansar.1.14\n",
      "ChopinFF__O9__nocturne_in_b-flat_minor\n",
      "MozartWA__KV331__KV331_1_2_var1\n",
      "BachJS__BWVAnh120__BWV-120\n",
      "SchumannR__O68__schumann-op68-01-melodie\n",
      "Traditional__traditioner_af_swenska_folk_dansar.3.22__traditioner_af_swenska_folk_dansar.3.22\n",
      "MussorgskyM__pictures-at-an-exhibition__promenade-3\n",
      "MussorgskyM__pictures-at-an-exhibition__promenade-5\n",
      "StraussJJ__O314__blue_danube\n",
      "MozartWA__KV331__KV331_1_5_var4\n",
      "BachJS__BWVAnh113__anna-magdalena-03\n",
      "Traditional__traditioner_af_swenska_folk_dansar.1.12__traditioner_af_swenska_folk_dansar.1.12\n",
      "BachJS__BWVAnh116__anna-magdalena-07\n",
      "MussorgskyM__pictures-at-an-exhibition__catacombae\n",
      "Traditional__traditioner_af_swenska_folk_dansar.3.1__traditioner_af_swenska_folk_dansar.3.1\n",
      "Traditional__traditioner_af_swenska_folk_dansar.3.19__traditioner_af_swenska_folk_dansar.3.19\n",
      "CzernyC__Op_821__Czerny_Op_821_No_014\n",
      "Traditional__traditioner_af_swenska_folk_dansar.3.6__traditioner_af_swenska_folk_dansar.3.6\n",
      "BachJS__BWVAnh131__air\n",
      "Traditional__traditioner_af_swenska_folk_dansar.1.2__traditioner_af_swenska_folk_dansar.1.2\n",
      "Traditional__traditioner_af_swenska_folk_dansar.3.34__traditioner_af_swenska_folk_dansar.3.34\n",
      "Traditional__traditioner_af_swenska_folk_dansar.1.5__traditioner_af_swenska_folk_dansar.1.5\n",
      "Traditional__traditioner_af_swenska_folk_dansar.1.19__traditioner_af_swenska_folk_dansar.1.19\n",
      "BachJS__BWV988__bwv-988-v09\n",
      "Anonymous__lanative__lanative\n",
      "BurgmullerJFF__O100__25EF-02\n",
      "BachJS__BWV856__BWV856_Fugue11\n",
      "BachJS__BWV1006a__bwv-1006a_5\n",
      "BachJS__BWV825__16title-hub\n",
      "AndreJ__O34__andre-sonatine\n",
      "MuellerAE__muller-siciliano__muller-siciliano\n",
      "BachJS__BWV511__BWV-511\n",
      "BachJS__BWV512__BWV-512\n",
      "SchumannR__O68__schumann-op68-26-sans-titre\n",
      "BachJS__BWV516__BWV-516\n",
      "Traditional__traditioner_af_swenska_folk_dansar.1.29__traditioner_af_swenska_folk_dansar.1.29\n",
      "Traditional__traditioner_af_swenska_folk_dansar.3.24__traditioner_af_swenska_folk_dansar.3.24\n",
      "Traditional__traditioner_af_swenska_folk_dansar.1.18__traditioner_af_swenska_folk_dansar.1.18\n",
      "BachJS__BWV988__bwv-988-v12\n",
      "BachJS__BWV817__bach-french-suite-6-menuet\n",
      "HandelGF__Aylesford__19-menuet\n",
      "Traditional__traditioner_af_swenska_folk_dansar.1.16__traditioner_af_swenska_folk_dansar.1.16\n",
      "BachJS__BWV779__bach-invention-08\n",
      "Traditional__traditioner_af_swenska_folk_dansar.2.36__traditioner_af_swenska_folk_dansar.2.36\n",
      "BachJS__BWVAnh691__BWV-691\n",
      "TchaikovskyPI__O39__01MorningPrayer\n",
      "SchumannR__O68__schumann-op68-09-chanson-populaire\n",
      "Traditional__traditioner_af_swenska_folk_dansar.3.17__traditioner_af_swenska_folk_dansar.3.17\n",
      "Traditional__traditioner_af_swenska_folk_dansar.1.4__traditioner_af_swenska_folk_dansar.1.4\n",
      "Traditional__traditioner_af_swenska_folk_dansar.1.9__traditioner_af_swenska_folk_dansar.1.9\n",
      "TchaikovskyPI__O39__16OldFrenchSong\n",
      "Traditional__traditioner_af_swenska_folk_dansar.3.12__traditioner_af_swenska_folk_dansar.3.12\n",
      "Traditional__traditioner_af_swenska_folk_dansar.2.27__traditioner_af_swenska_folk_dansar.2.27\n",
      "Kruetzer__lodiska__lodiska\n",
      "BartokB__rom_folk_dance_1_bartok__rom_folk_dance_1_bartok\n",
      "SatieE__gymnopedie_1__gymnopedie_1\n",
      "ChopinFF__O28__Chop-28-9\n",
      "BachJS__BWV994__bach-applicatio\n",
      "CzernyC__Op_821__Czerny_Op_821_No_009\n",
      "Traditional__traditioner_af_swenska_folk_dansar.1.30__traditioner_af_swenska_folk_dansar.1.30\n",
      "Yaniewicz__leslanciers__leslanciers\n",
      "Traditional__traditioner_af_swenska_folk_dansar.3.5__traditioner_af_swenska_folk_dansar.3.5\n",
      "CzernyC__Op_821__Czerny_Op_821_No_008\n",
      "Traditional__traditioner_af_swenska_folk_dansar.3.13__traditioner_af_swenska_folk_dansar.3.13\n",
      "BurgmullerJFF__O100__25EF-08\n",
      "BachJS__BWV775__bach-invention-04\n",
      "BachJS__BWV829__55title-hub\n",
      "Traditional__traditioner_af_swenska_folk_dansar.1.6__traditioner_af_swenska_folk_dansar.1.6\n",
      "BurgmullerJFF__O100__25EF-14\n",
      "BachJS__BWV797__bwv797\n",
      "SchumannR__O68__schumann-op68-16-premier-chagrin\n",
      "BachJS__BWV830__BWV-830-2\n",
      "BachJS__BWV117a__BWV-117a\n",
      "HandelGF__Aylesford__10-menuetii\n",
      "CzernyC__Op_821__Czerny_Op_821_No_004\n",
      "Traditional__traditioner_af_swenska_folk_dansar.1.20__traditioner_af_swenska_folk_dansar.1.20\n",
      "Traditional__traditioner_af_swenska_folk_dansar.3.8__traditioner_af_swenska_folk_dansar.3.8\n",
      "SchumannR__O68__schumann-op68-06-pauvre-orpheline\n",
      "Traditional__traditioner_af_swenska_folk_dansar.1.22__traditioner_af_swenska_folk_dansar.1.22\n",
      "Traditional__traditioner_af_swenska_folk_dansar.1.3__traditioner_af_swenska_folk_dansar.1.3\n",
      "SchumannR__O68__schumann-op68-08-cavalier-sauvage\n",
      "SatieE__gymnopedie_3__gymnopedie_3\n",
      "CzernyC__Op_821__Czerny_Op_821_No_015\n",
      "Traditional__traditioner_af_swenska_folk_dansar.3.7__traditioner_af_swenska_folk_dansar.3.7\n",
      "Traditional__traditioner_af_swenska_folk_dansar.3.18__traditioner_af_swenska_folk_dansar.3.18\n",
      "BachJS__BWV781__bach-invention-10\n",
      "ScriabinA__O16__scriabine-op16-no5\n",
      "HandelGF__Aylesford__16-airmitvar\n",
      "ChopinFF__O28__Chop-28-11\n",
      "HandelGF__Aylesford__07-concerto\n",
      "BeethovenLv__O79__LVB_Sonate_79_1\n",
      "Traditional__traditioner_af_swenska_folk_dansar.3.9__traditioner_af_swenska_folk_dansar.3.9\n",
      "SchumannR__O68__schumann-op68-04-choral\n",
      "BachJS__BWV817__bach-french-suite-6-polonaise\n"
     ]
    }
   ],
   "source": [
    "with Pool(12) as p:\n",
    "    list(tqdm_notebook(p.imap(processPiece, range(len(pieces))), total=len(pieces)))"
   ]
  },
  {
   "cell_type": "code",
   "execution_count": null,
   "metadata": {},
   "outputs": [],
   "source": []
  }
 ],
 "metadata": {
  "kernelspec": {
   "display_name": "Python [conda env:msmd]",
   "language": "python",
   "name": "conda-env-msmd-py"
  },
  "language_info": {
   "codemirror_mode": {
    "name": "ipython",
    "version": 3
   },
   "file_extension": ".py",
   "mimetype": "text/x-python",
   "name": "python",
   "nbconvert_exporter": "python",
   "pygments_lexer": "ipython3",
   "version": "3.6.6"
  },
  "latex_envs": {
   "LaTeX_envs_menu_present": true,
   "autoclose": false,
   "autocomplete": true,
   "bibliofile": "biblio.bib",
   "cite_by": "apalike",
   "current_citInitial": 1,
   "eqLabelWithNumbers": true,
   "eqNumInitial": 1,
   "hotkeys": {
    "equation": "Ctrl-E",
    "itemize": "Ctrl-I"
   },
   "labels_anchors": false,
   "latex_user_defs": false,
   "report_style_numbering": false,
   "user_envs_cfg": false
  },
  "toc": {
   "nav_menu": {},
   "number_sections": true,
   "sideBar": true,
   "skip_h1_title": false,
   "title_cell": "Table of Contents",
   "title_sidebar": "Contents",
   "toc_cell": false,
   "toc_position": {},
   "toc_section_display": true,
   "toc_window_display": false
  },
  "varInspector": {
   "cols": {
    "lenName": 16,
    "lenType": 16,
    "lenVar": 40
   },
   "kernels_config": {
    "python": {
     "delete_cmd_postfix": "",
     "delete_cmd_prefix": "del ",
     "library": "var_list.py",
     "varRefreshCmd": "print(var_dic_list())"
    },
    "r": {
     "delete_cmd_postfix": ") ",
     "delete_cmd_prefix": "rm(",
     "library": "var_list.r",
     "varRefreshCmd": "cat(var_dic_list()) "
    }
   },
   "types_to_exclude": [
    "module",
    "function",
    "builtin_function_or_method",
    "instance",
    "_Feature"
   ],
   "window_display": false
  }
 },
 "nbformat": 4,
 "nbformat_minor": 2
}
